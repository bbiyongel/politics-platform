{
 "cells": [
  {
   "cell_type": "code",
   "execution_count": 1,
   "metadata": {},
   "outputs": [],
   "source": [
    "import pandas as pd\n",
    "\n",
    "data = pd.read_csv('politics_news_data_v4.csv')"
   ]
  },
  {
   "cell_type": "code",
   "execution_count": 2,
   "metadata": {},
   "outputs": [
    {
     "data": {
      "text/html": [
       "<div>\n",
       "<style scoped>\n",
       "    .dataframe tbody tr th:only-of-type {\n",
       "        vertical-align: middle;\n",
       "    }\n",
       "\n",
       "    .dataframe tbody tr th {\n",
       "        vertical-align: top;\n",
       "    }\n",
       "\n",
       "    .dataframe thead th {\n",
       "        text-align: right;\n",
       "    }\n",
       "</style>\n",
       "<table border=\"1\" class=\"dataframe\">\n",
       "  <thead>\n",
       "    <tr style=\"text-align: right;\">\n",
       "      <th></th>\n",
       "      <th>title</th>\n",
       "      <th>text</th>\n",
       "      <th>date</th>\n",
       "      <th>url</th>\n",
       "      <th>token</th>\n",
       "      <th>sentiment_sentences</th>\n",
       "    </tr>\n",
       "  </thead>\n",
       "  <tbody>\n",
       "    <tr>\n",
       "      <th>99787</th>\n",
       "      <td>음주 시동잠금 의무·사드생중계 방지…9월 이색법안은 ?</td>\n",
       "      <td>정치BAR_ 문재인 정부 첫 정기국회③ 9월 1일 문재인 정부 출범 뒤 첫 정기국회...</td>\n",
       "      <td>2017-09-15</td>\n",
       "      <td>http://www.hani.co.kr/arti/politics/polibar/81...</td>\n",
       "      <td>정치BAR_ 문재 정부 첫 정기국회③ 9월 1일 문재 정부 출범 뒤 첫 정기국회 정...</td>\n",
       "      <td>◎ 폭염·한파 노동자 보호법 ( 산업안전보건법 개정안 ) -신창현 더불어민주당 의...</td>\n",
       "    </tr>\n",
       "    <tr>\n",
       "      <th>99788</th>\n",
       "      <td>[ 사설 ] 기적적 경제 성장 빼고 '운동 ' 만 기록한 '대한민국 100년사 '</td>\n",
       "      <td>경기도교육청이 인터넷에서 '역사 교육 캠페인'이란 행사를 하면서 '대한민국을 변화시...</td>\n",
       "      <td>2019.08.09</td>\n",
       "      <td>https://news.chosun.com/site/data/html_dir/201...</td>\n",
       "      <td>경기도교육청 인터넷 역사 교육 캠페인 행사 대한민국 변화 역사적 2개 선택 이벤트 ...</td>\n",
       "      <td>그러고선 운동 , 항쟁 , 시위 사건만이 오늘날 대한민국을 있게 했다는 식으로 캠...</td>\n",
       "    </tr>\n",
       "    <tr>\n",
       "      <th>99789</th>\n",
       "      <td>[ 사설 ] 기적적 경제 성장 빼고 '운동 ' 만 기록한 '대한민국 100년사 '</td>\n",
       "      <td>경기도교육청이 인터넷에서 '역사 교육 캠페인'이란 행사를 하면서 '대한민국을 변화시...</td>\n",
       "      <td>2019.08.09</td>\n",
       "      <td>https://news.chosun.com/site/data/html_dir/201...</td>\n",
       "      <td>경기도교육청 인터넷 역사 교육 캠페인 행사 대한민국 변화 역사적 2개 선택 이벤트 ...</td>\n",
       "      <td>'대한민국은 한반도 유일 합법 정부 ' '자유 민주주의 ' 를 뺀 교재를 배포하고...</td>\n",
       "    </tr>\n",
       "    <tr>\n",
       "      <th>99790</th>\n",
       "      <td>[ 사설 ] 기적적 경제 성장 빼고 '운동 ' 만 기록한 '대한민국 100년사 '</td>\n",
       "      <td>경기도교육청이 인터넷에서 '역사 교육 캠페인'이란 행사를 하면서 '대한민국을 변화시...</td>\n",
       "      <td>2019.08.09</td>\n",
       "      <td>https://news.chosun.com/site/data/html_dir/201...</td>\n",
       "      <td>경기도교육청 인터넷 역사 교육 캠페인 행사 대한민국 변화 역사적 2개 선택 이벤트 ...</td>\n",
       "      <td>경기교육청은 최근 학교 생활 속 일제 잔재를 발굴 조사한다며 '수학여행 ' '파이...</td>\n",
       "    </tr>\n",
       "    <tr>\n",
       "      <th>99791</th>\n",
       "      <td>[ 사설 ] '민변 ' 출신들이 감투 나눠 먹기 잔치 벌이나</td>\n",
       "      <td>법무부 산하 대한법률구조공단 이사장에 민변 ( 民辯 ) 출신 대학교수가 내정됐다 ....</td>\n",
       "      <td>2018.06.26</td>\n",
       "      <td>https://news.chosun.com/site/data/html_dir/201...</td>\n",
       "      <td>법무부 산하 대한법률구조공단 이사장 민변 民辯 출신 대학교수 내정 박근혜 정권 임명...</td>\n",
       "      <td>법률문제뿐 아니라 역사교과서 국정화 반대 , 위안부 합의 반대 등 사안에도 끼어들...</td>\n",
       "    </tr>\n",
       "  </tbody>\n",
       "</table>\n",
       "</div>"
      ],
      "text/plain": [
       "                                               title  \\\n",
       "99787                 음주 시동잠금 의무·사드생중계 방지…9월 이색법안은 ?   \n",
       "99788  [ 사설 ] 기적적 경제 성장 빼고 '운동 ' 만 기록한 '대한민국 100년사 '   \n",
       "99789  [ 사설 ] 기적적 경제 성장 빼고 '운동 ' 만 기록한 '대한민국 100년사 '   \n",
       "99790  [ 사설 ] 기적적 경제 성장 빼고 '운동 ' 만 기록한 '대한민국 100년사 '   \n",
       "99791              [ 사설 ] '민변 ' 출신들이 감투 나눠 먹기 잔치 벌이나   \n",
       "\n",
       "                                                    text         date  \\\n",
       "99787  정치BAR_ 문재인 정부 첫 정기국회③ 9월 1일 문재인 정부 출범 뒤 첫 정기국회...  2017-09-15    \n",
       "99788  경기도교육청이 인터넷에서 '역사 교육 캠페인'이란 행사를 하면서 '대한민국을 변화시...  2019.08.09    \n",
       "99789  경기도교육청이 인터넷에서 '역사 교육 캠페인'이란 행사를 하면서 '대한민국을 변화시...  2019.08.09    \n",
       "99790  경기도교육청이 인터넷에서 '역사 교육 캠페인'이란 행사를 하면서 '대한민국을 변화시...  2019.08.09    \n",
       "99791  법무부 산하 대한법률구조공단 이사장에 민변 ( 民辯 ) 출신 대학교수가 내정됐다 ....  2018.06.26    \n",
       "\n",
       "                                                     url  \\\n",
       "99787  http://www.hani.co.kr/arti/politics/polibar/81...   \n",
       "99788  https://news.chosun.com/site/data/html_dir/201...   \n",
       "99789  https://news.chosun.com/site/data/html_dir/201...   \n",
       "99790  https://news.chosun.com/site/data/html_dir/201...   \n",
       "99791  https://news.chosun.com/site/data/html_dir/201...   \n",
       "\n",
       "                                                   token  \\\n",
       "99787  정치BAR_ 문재 정부 첫 정기국회③ 9월 1일 문재 정부 출범 뒤 첫 정기국회 정...   \n",
       "99788  경기도교육청 인터넷 역사 교육 캠페인 행사 대한민국 변화 역사적 2개 선택 이벤트 ...   \n",
       "99789  경기도교육청 인터넷 역사 교육 캠페인 행사 대한민국 변화 역사적 2개 선택 이벤트 ...   \n",
       "99790  경기도교육청 인터넷 역사 교육 캠페인 행사 대한민국 변화 역사적 2개 선택 이벤트 ...   \n",
       "99791  법무부 산하 대한법률구조공단 이사장 민변 民辯 출신 대학교수 내정 박근혜 정권 임명...   \n",
       "\n",
       "                                     sentiment_sentences  \n",
       "99787   ◎ 폭염·한파 노동자 보호법 ( 산업안전보건법 개정안 ) -신창현 더불어민주당 의...  \n",
       "99788   그러고선 운동 , 항쟁 , 시위 사건만이 오늘날 대한민국을 있게 했다는 식으로 캠...  \n",
       "99789   '대한민국은 한반도 유일 합법 정부 ' '자유 민주주의 ' 를 뺀 교재를 배포하고...  \n",
       "99790   경기교육청은 최근 학교 생활 속 일제 잔재를 발굴 조사한다며 '수학여행 ' '파이...  \n",
       "99791   법률문제뿐 아니라 역사교과서 국정화 반대 , 위안부 합의 반대 등 사안에도 끼어들...  "
      ]
     },
     "execution_count": 2,
     "metadata": {},
     "output_type": "execute_result"
    }
   ],
   "source": [
    "data.tail()"
   ]
  },
  {
   "cell_type": "code",
   "execution_count": 3,
   "metadata": {},
   "outputs": [
    {
     "name": "stderr",
     "output_type": "stream",
     "text": [
      "C:\\Users\\nemo\\Anaconda3\\envs\\hate_speech_topic\\lib\\site-packages\\gensim\\models\\doc2vec.py:574: UserWarning: The parameter `size` is deprecated, will be removed in 4.0.0, use `vector_size` instead.\n",
      "  warnings.warn(\"The parameter `size` is deprecated, will be removed in 4.0.0, use `vector_size` instead.\")\n"
     ]
    }
   ],
   "source": [
    "from gensim.models.doc2vec import Doc2Vec, TaggedDocument\n",
    "import pandas as pd\n",
    "\n",
    "tagged_data = [TaggedDocument(words=str(_d).split(), tags=[str(i)]) for i, _d in enumerate(data.sentiment_sentences)]\n",
    "\n",
    "max_epochs = 10\n",
    "vec_size = 128\n",
    "alpha = 0.025\n",
    "\n",
    "model = Doc2Vec(size=vec_size,\n",
    "                alpha=alpha, \n",
    "                min_alpha=0.00025,\n",
    "                min_count=10,\n",
    "                dm =1)\n",
    "\n",
    "model.build_vocab(tagged_data)"
   ]
  },
  {
   "cell_type": "code",
   "execution_count": 5,
   "metadata": {},
   "outputs": [
    {
     "name": "stdout",
     "output_type": "stream",
     "text": [
      "99792 TaggedDocument(['정', '총리는', '“', '현재', '수준의', '안정적', '관리가', '유지되고', '다른', '분야가', '일상으로', '복귀한다면', '학생들의', '등교도', '조심스럽게', '추진할', '수', '있다고', '생각하지만', ',', '정말', '쉽지', '않은', '문제', '”', '라며', '“', '온라인', '개학을', '결정할', '때와', '마찬가지로', '교육계와', '지역사회와', '학부모의', '생각이', '중요하다', '”', '고', '말했다'], ['10'])\n"
     ]
    }
   ],
   "source": [
    "print(len(tagged_data), tagged_data[10])"
   ]
  },
  {
   "cell_type": "code",
   "execution_count": null,
   "metadata": {
    "scrolled": true
   },
   "outputs": [],
   "source": [
    "for epoch in range(100):\n",
    "#410\n",
    "    print('iteration {0}'.format(epoch))\n",
    "    \n",
    "    model.train(tagged_data,\n",
    "                total_examples=model.corpus_count,\n",
    "                epochs=model.iter)\n",
    "    \n",
    "    model.alpha -= 0.0002\n",
    "    model.min_alpha = model.alpha\n",
    "\n",
    "print(\"Model Trained\")"
   ]
  },
  {
   "cell_type": "code",
   "execution_count": 40,
   "metadata": {},
   "outputs": [],
   "source": [
    "model.save(\"d2v_politics_news_v2.model\")"
   ]
  }
 ],
 "metadata": {
  "kernelspec": {
   "display_name": "Python [conda env:hate_speech_topic]",
   "language": "python",
   "name": "conda-env-hate_speech_topic-py"
  },
  "language_info": {
   "codemirror_mode": {
    "name": "ipython",
    "version": 3
   },
   "file_extension": ".py",
   "mimetype": "text/x-python",
   "name": "python",
   "nbconvert_exporter": "python",
   "pygments_lexer": "ipython3",
   "version": "3.7.7"
  }
 },
 "nbformat": 4,
 "nbformat_minor": 4
}
