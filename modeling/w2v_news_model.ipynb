{
 "cells": [
  {
   "cell_type": "code",
   "execution_count": 1,
   "metadata": {},
   "outputs": [],
   "source": [
    "import pandas as pd\n",
    "\n",
    "data = pd.read_csv('politics_news_data_v1.csv')\n",
    "word_data = [str(x).split() for x in data.text]"
   ]
  },
  {
   "cell_type": "code",
   "execution_count": 2,
   "metadata": {},
   "outputs": [
    {
     "name": "stdout",
     "output_type": "stream",
     "text": [
      "['문재인', '대통령이', '27일', '코로나19', '극복에', '노력하는', '의료진에게', '감사와', '응원의', '메시지를', '전달하는', '‘', '덕분에', '챌린지', '’', '에', '참여하고', '바통을', '김연경', '배구선수와', '만화', '주인공', '아기상어', ',', '권동호', '수어통역사에게', '넘겼다', '.', '문재인', '대통령이', '27일', '오후', '청와대에서', '수석·보좌관', '회의를', '주재하기에', '앞서', '참석자들과', '함께', '신종', '코로나바이러스', '감염증', '(', '코로나19', ')', '의료인에게', '고마움을', '전하는', \"'덕분에\", '챌린지', \"'\", '에', '참여하고', '있다', '.', '덕분에', '챌린지는', '인스타그램', '등', 'SNS에', \"'존경\", \"'\", '과', \"'자부심\", \"'\", '을', '뜻하는', '수어', '동작', '사진이나', '영상을', '올리고', \"'\", '#', '덕분에캠페인', \"'\", ',', \"'\", '#', '덕분에챌린지', \"'\", ',', \"'\", '#', '의료진덕분에', \"'\", '등', '3개의', '해시태그를', '붙이는', '국민', '참여', '캠페인이다', '.', '연합뉴스', '문', '대통령은', '이날', '청와대에서', '수석보좌관회의를', '시작하기에', '앞서', '참모들과', '함께', '‘', '존경', '’', '이라는', '의미의', '수어', '동작을', '하며', '“', '의료진', ',', '덕분에', '!', '국민', ',', '덕분에', '!', '”', '를', '외쳤다', '.', '정은경', '본부장을', '포함한', '질병관리본부', '중앙방역대책본부는', '지난', '24일', '‘', '덕분에', '챌린지', \"'\", '를', '하며', '다음', '주자로', '문재인', '대통령을', '지정한', '바', '있다', '.', '문', '대통령은', '이날', '오후', '자신의', '페이스북에', '‘', '의료진', '여러분의', '헌신에', '존경과', '감사를', '표합니다', '’', '라는', '제목의', '글을', '올려', '“', '의료진', '덕분에', ',', '소중한', '생명이', '지켜지고', '있다', '.', '의료진', '덕분에', ',', '바이러스와의', '싸움에서', '승리하고', '있다', '.', '의료진', '덕분에', ',', '방역', '모범국가라는', '세계의', '평가가', '가능했다', '.', '의료진', '덕분에', ',', '서서히', '일상을', '준비하게', '되었다', '”', '며', '“', '우리의', '응원이', '의료진', '여러분에게', '자부심이', '되었으면', '좋겠다', '”', '고', '썼다', '.', '그는', '다음', '챌린지', '주자로', '아기상어와', '김연경', '선수', ',', '권동호', '수화', '통역사를', '지목했다', '.', '그는', '“', '코로나19로', '고통받는', '전세계', '어린이들에게', '반드시', '바이러스를', '극복할', '수', '있다는', '희망의', '메시지를', '나눌', '수', '있도록', '아기상어와', '함께', ',', '배구코트에서도', '자가격리에서도', '월드클래스의', '품격을', '보여주고', '있는', '김연경', '선수와', '함께', ',', '장애인과', '비장애인', '모두가', '같은', '방역', '소식을', '전달받을', '수', '있도록', '매일', '마스크도', '없이', '온몸으로', '전하고', '있는', '권동호', '수어통역사와', '함께', '”', '라고', '했다', '.', '성연철', 'sychee']\n"
     ]
    }
   ],
   "source": [
    "print(word_data[10])"
   ]
  },
  {
   "cell_type": "code",
   "execution_count": 3,
   "metadata": {},
   "outputs": [
    {
     "name": "stdout",
     "output_type": "stream",
     "text": [
      "Time to build vocab: 0.98 mins\n"
     ]
    }
   ],
   "source": [
    "from gensim.models import Word2Vec\n",
    "from time import time\n",
    "\n",
    "w2v_model = Word2Vec(min_count=10,\n",
    "                     window=2,\n",
    "                     size=100,\n",
    "                     sample=6e-5, \n",
    "                     alpha=0.03, \n",
    "                     min_alpha=0.0007, \n",
    "                     negative=20,\n",
    "                     workers=4)\n",
    "\n",
    "t = time()\n",
    "w2v_model.build_vocab(word_data, progress_per=10000)\n",
    "print('Time to build vocab: {} mins'.format(round((time() - t) / 60, 2)))"
   ]
  },
  {
   "cell_type": "code",
   "execution_count": 4,
   "metadata": {},
   "outputs": [
    {
     "name": "stdout",
     "output_type": "stream",
     "text": [
      "iteration 0\n"
     ]
    },
    {
     "name": "stderr",
     "output_type": "stream",
     "text": [
      "C:\\Users\\nemo\\Anaconda3\\envs\\hate_speech_topic\\lib\\site-packages\\ipykernel_launcher.py:8: DeprecationWarning: Call to deprecated `iter` (Attribute will be removed in 4.0.0, use self.epochs instead).\n",
      "  \n"
     ]
    },
    {
     "name": "stdout",
     "output_type": "stream",
     "text": [
      "iteration 1\n",
      "iteration 2\n",
      "iteration 3\n",
      "iteration 4\n",
      "iteration 5\n",
      "iteration 6\n",
      "iteration 7\n",
      "iteration 8\n",
      "iteration 9\n",
      "Time to train the model: 71.27 mins\n"
     ]
    }
   ],
   "source": [
    "t = time()\n",
    "#10\n",
    "for epoch in range(10):\n",
    "    print('iteration {0}'.format(epoch))\n",
    "    \n",
    "    w2v_model.train(word_data,\n",
    "                total_examples=w2v_model.corpus_count,\n",
    "                epochs=w2v_model.iter)\n",
    "    \n",
    "    w2v_model.alpha -= 0.0002\n",
    "    w2v_model.min_alpha = w2v_model.alpha\n",
    "    \n",
    "print('Time to train the model: {} mins'.format(round((time() - t) / 60, 2)))"
   ]
  },
  {
   "cell_type": "code",
   "execution_count": null,
   "metadata": {},
   "outputs": [],
   "source": [
    "w2v_model.save(\"w2v_politics_news_v1.model\")"
   ]
  }
 ],
 "metadata": {
  "kernelspec": {
   "display_name": "Python [conda env:hate_speech_topic]",
   "language": "python",
   "name": "conda-env-hate_speech_topic-py"
  },
  "language_info": {
   "codemirror_mode": {
    "name": "ipython",
    "version": 3
   },
   "file_extension": ".py",
   "mimetype": "text/x-python",
   "name": "python",
   "nbconvert_exporter": "python",
   "pygments_lexer": "ipython3",
   "version": "3.7.7"
  }
 },
 "nbformat": 4,
 "nbformat_minor": 4
}
